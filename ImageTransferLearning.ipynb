{
 "cells": [
  {
   "cell_type": "code",
   "execution_count": null,
   "metadata": {},
   "outputs": [],
   "source": [
    "#start"
   ]
  },
  {
   "cell_type": "code",
   "execution_count": 1,
   "metadata": {},
   "outputs": [
    {
     "name": "stdout",
     "output_type": "stream",
     "text": [
      "creating: createDefault\n",
      "creating: createSGD\n"
     ]
    }
   ],
   "source": [
    "import re\n",
    "from bigdl.util.common import * \n",
    "from bigdl.transform.vision.image import *\n",
    "from bigdl.transform.vision import image\n",
    "from pyspark.sql.functions import col, udf\n",
    "from pyspark.sql.types import DoubleType, StringType\n",
    "from bigdl.nn.layer import *\n",
    "from bigdl.nn.criterion import *\n",
    "from pyspark import SparkConf\n",
    "from pyspark.ml import Pipeline\n",
    "from pyspark.ml.evaluation import MulticlassClassificationEvaluator\n",
    "\n",
    "from zoo.common.nncontext import *\n",
    "from zoo.pipeline.nnframes.nn_classifier import *\n",
    "from zoo.pipeline.nnframes.nn_image_reader import *\n",
    "from zoo.pipeline.nnframes.nn_image_transformer import *"
   ]
  },
  {
   "cell_type": "code",
   "execution_count": 5,
   "metadata": {
    "scrolled": true
   },
   "outputs": [
    {
     "name": "stdout",
     "output_type": "stream",
     "text": [
      "('partiion number: ', 12)\n",
      "('image number: ', 2000)\n"
     ]
    }
   ],
   "source": [
    "    sparkConf = SparkConf().setAppName(\"ImageTransferLearningExample\")\n",
    "    sc = get_nncontext(sparkConf)\n",
    "    #redire_spark_logs()\n",
    "\n",
    "    model_path = '/home/sermolin/model/bigdl_inception-v1_imagenet_0.4.0.model' \n",
    "    image_path = '/home/sermolin/demo' + '/*/*'\n",
    "    imageDF = NNImageReader.readImages(image_path, sc).repartition(12).cache()\n",
    "    print (\"partiion number: \", imageDF.rdd.getNumPartitions())\n",
    "    print (\"image number: \", imageDF.count())"
   ]
  },
  {
   "cell_type": "code",
   "execution_count": 6,
   "metadata": {},
   "outputs": [
    {
     "name": "stdout",
     "output_type": "stream",
     "text": [
      "creating: createResize\n",
      "creating: createCenterCrop\n",
      "creating: createChannelNormalize\n",
      "creating: createPipeline\n",
      "creating: createNNImageTransformer\n",
      "creating: createNNModel\n",
      "creating: createSequential\n",
      "creating: createLinear\n",
      "creating: createLogSoftMax\n",
      "creating: createClassNLLCriterion\n",
      "creating: createNNClassifier\n",
      "+--------------------+-------------+-----+--------------------+--------------------+----------+\n",
      "|               image|         name|label|            features|           embedding|prediction|\n",
      "+--------------------+-------------+-----+--------------------+--------------------+----------+\n",
      "|[file:/home/sermo...|cat.10034.jpg|  1.0|[file:/home/sermo...|[1.58853495690891...|       1.0|\n",
      "|[file:/home/sermo...|cat.10036.jpg|  1.0|[file:/home/sermo...|[1.03906731965253...|       1.0|\n",
      "|[file:/home/sermo...|cat.10094.jpg|  1.0|[file:/home/sermo...|[7.05291824942833...|       1.0|\n",
      "|[file:/home/sermo...|cat.10187.jpg|  1.0|[file:/home/sermo...|[3.15780971504864...|       1.0|\n",
      "|[file:/home/sermo...|cat.10308.jpg|  1.0|[file:/home/sermo...|[5.87752197134250...|       1.0|\n",
      "|[file:/home/sermo...|cat.10661.jpg|  1.0|[file:/home/sermo...|[1.24109320154275...|       1.0|\n",
      "|[file:/home/sermo...|cat.10707.jpg|  1.0|[file:/home/sermo...|[2.42893602262483...|       1.0|\n",
      "|[file:/home/sermo...|cat.10734.jpg|  1.0|[file:/home/sermo...|[6.29660862614400...|       2.0|\n",
      "|[file:/home/sermo...|    dog.1.jpg|  2.0|[file:/home/sermo...|[1.28736428450793...|       2.0|\n",
      "|[file:/home/sermo...|dog.10041.jpg|  2.0|[file:/home/sermo...|[3.93228401662781...|       2.0|\n",
      "|[file:/home/sermo...|dog.10126.jpg|  2.0|[file:/home/sermo...|[6.56589872960466...|       2.0|\n",
      "|[file:/home/sermo...|dog.10179.jpg|  2.0|[file:/home/sermo...|[3.92675894545391...|       2.0|\n",
      "|[file:/home/sermo...|dog.10281.jpg|  2.0|[file:/home/sermo...|[1.21941894803967...|       2.0|\n",
      "|[file:/home/sermo...| dog.1071.jpg|  2.0|[file:/home/sermo...|[2.44583789026364...|       2.0|\n",
      "|[file:/home/sermo...|dog.10738.jpg|  2.0|[file:/home/sermo...|[1.76484923031239...|       2.0|\n",
      "|[file:/home/sermo...|dog.10802.jpg|  2.0|[file:/home/sermo...|[2.27192140300758...|       2.0|\n",
      "|[file:/home/sermo...|cat.10035.jpg|  1.0|[file:/home/sermo...|[1.37590268423082...|       1.0|\n",
      "|[file:/home/sermo...|cat.10336.jpg|  1.0|[file:/home/sermo...|[4.47538650405476...|       1.0|\n",
      "|[file:/home/sermo...|cat.10497.jpg|  1.0|[file:/home/sermo...|[2.96343223453732...|       2.0|\n",
      "|[file:/home/sermo...|cat.10765.jpg|  1.0|[file:/home/sermo...|[5.73947072552982...|       2.0|\n",
      "+--------------------+-------------+-----+--------------------+--------------------+----------+\n",
      "only showing top 20 rows\n",
      "\n",
      "Test Error = 0.078125 \n"
     ]
    }
   ],
   "source": [
    "    #change code for house style here:\n",
    "    \n",
    "    getName = udf(lambda row: re.search(r'(cat|dog)\\.([\\d]*)\\.jpg', row[0], re.IGNORECASE).group(0), StringType())\n",
    "    getLabel = udf(lambda name: 1.0 if name.startswith('cat') else 2.0, DoubleType())\n",
    "    labelDF = imageDF.withColumn(\"name\", getName(col(\"image\"))) \\\n",
    "        .withColumn(\"label\", getLabel(col('name')))\n",
    "    (trainingDF, validationDF) = labelDF.randomSplit([0.9, 0.1])\n",
    "\n",
    "    # compose a pipeline that includes feature transform, pretrained model and Logistic Regression\n",
    "    transformer = NNImageTransformer(\n",
    "        image.Pipeline([Resize(256, 256), CenterCrop(224, 224), ChannelNormalize(123.0, 117.0, 104.0)])\n",
    "    ).setInputCol(\"image\").setOutputCol(\"features\")\n",
    "\n",
    "    preTrainedNNModel = NNModel(Model.loadModel(model_path), [3,224,224]).setPredictionCol(\"embedding\")\n",
    "\n",
    "    lrModel = Sequential().add(Linear(1000, 2)).add(LogSoftMax())\n",
    "    classifier = NNClassifier(lrModel, ClassNLLCriterion(), [1000]) \\\n",
    "        .setLearningRate(0.003).setBatchSize(40).setMaxEpoch(20).setFeaturesCol(\"embedding\")\n",
    "\n",
    "    pipeline = Pipeline(stages=[transformer, preTrainedNNModel, classifier])\n",
    "\n",
    "    catdogModel = pipeline.fit(trainingDF)\n",
    "    predictionDF = catdogModel.transform(validationDF).cache()\n",
    "    predictionDF.show()\n",
    "\n",
    "    evaluator = MulticlassClassificationEvaluator(\n",
    "        labelCol=\"label\", predictionCol=\"prediction\", metricName=\"accuracy\")\n",
    "    accuracy = evaluator.evaluate(predictionDF)\n",
    "    # expected error should be less than 10%\n",
    "    print(\"Test Error = %g \" % (1.0 - accuracy))"
   ]
  },
  {
   "cell_type": "code",
   "execution_count": null,
   "metadata": {},
   "outputs": [],
   "source": [
    "#end"
   ]
  }
 ],
 "metadata": {
  "kernelspec": {
   "display_name": "Python 2",
   "language": "python",
   "name": "python2"
  },
  "language_info": {
   "codemirror_mode": {
    "name": "ipython",
    "version": 2
   },
   "file_extension": ".py",
   "mimetype": "text/x-python",
   "name": "python",
   "nbconvert_exporter": "python",
   "pygments_lexer": "ipython2",
   "version": "2.7.12"
  }
 },
 "nbformat": 4,
 "nbformat_minor": 2
}
